{
 "cells": [
  {
   "cell_type": "markdown",
   "id": "392d3e16",
   "metadata": {},
   "source": [
    "Q1. The value dispalyed is 6. This is because in global a is first stored as 0 but return in function c as 2 and its stored in function b as 2. The next call of function c adds 2 to make it 4 which displays when function b is called. So function b is call three times which displays the value 6 by adding 2 to 4 for the value of a."
   ]
  },
  {
   "cell_type": "markdown",
   "id": "6fc8de94",
   "metadata": {},
   "source": [
    "Q2."
   ]
  },
  {
   "cell_type": "code",
   "execution_count": 23,
   "id": "273fbf8d",
   "metadata": {},
   "outputs": [
    {
     "name": "stdout",
     "output_type": "stream",
     "text": [
      "File midterm.py not found\n",
      "10\n"
     ]
    }
   ],
   "source": [
    "\n",
    "def file_length(contents):\n",
    "    try:\n",
    "        file = open('midterm.py')\n",
    "        contents = file.read()\n",
    "        file.close()\n",
    "    except FileNotFoundError:\n",
    "        print('File {} not found'.format(contents))\n",
    "        print(len(contents))\n",
    "    \n",
    "        \n",
    "file_length('midterm.py')"
   ]
  },
  {
   "cell_type": "markdown",
   "id": "ba9d0d25",
   "metadata": {},
   "source": [
    "Q3."
   ]
  },
  {
   "cell_type": "code",
   "execution_count": 24,
   "id": "b7a88c97",
   "metadata": {},
   "outputs": [],
   "source": [
    "class Marsupial(object):\n",
    "    def __init__(self):\n",
    "        self.things = []\n",
    "    \n",
    "    def put_in_pouch(self, item):\n",
    "        self.things.append(item)\n",
    "    \n",
    "    def pouch_contents(self):\n",
    "        return (self.things)\n",
    "    "
   ]
  },
  {
   "cell_type": "code",
   "execution_count": 25,
   "id": "7a786f15",
   "metadata": {},
   "outputs": [
    {
     "data": {
      "text/plain": [
       "['doll', 'firetruck', 'kitten']"
      ]
     },
     "execution_count": 25,
     "metadata": {},
     "output_type": "execute_result"
    }
   ],
   "source": [
    "m = Marsupial()\n",
    "m.put_in_pouch('doll')\n",
    "m.put_in_pouch('firetruck')\n",
    "m.put_in_pouch('kitten')\n",
    "m.pouch_contents()"
   ]
  },
  {
   "cell_type": "markdown",
   "id": "01605528",
   "metadata": {},
   "source": [
    "Q3a."
   ]
  },
  {
   "cell_type": "code",
   "execution_count": 55,
   "id": "f4acef08",
   "metadata": {},
   "outputs": [],
   "source": [
    "class Kangaroo(Marsupial):\n",
    "    def __init__(self, xcoord = 0, ycoord = 0):\n",
    "        super().__init__()\n",
    "        self.x = xcoord\n",
    "        self.y = ycoord\n",
    "        \n",
    "    def setx(self, xcoord):\n",
    "        self.x = xcoord\n",
    "        \n",
    "    def sety(self, ycoord):\n",
    "        self.y = ycoord\n",
    "        \n",
    "    def get(self):\n",
    "        return(self.x,  self.y)\n",
    "    \n",
    "    def  jump(self, dx, dy):\n",
    "        self.x += dx\n",
    "        self.y += dy\n",
    "        \n",
    "    def __repr__(self):\n",
    "        'I am a Kangaroo located at coordinates (0,0)'\n",
    "        return 'Kangaroo({}, {})'.format(self.x, self.y)\n",
    "        \n",
    "    def __str__(self):\n",
    "        return 'I am a Kangaroo located at coordinates ({},{})'.format(self.x, self.y)"
   ]
  },
  {
   "cell_type": "code",
   "execution_count": 56,
   "id": "f0c9ee15",
   "metadata": {},
   "outputs": [
    {
     "name": "stdout",
     "output_type": "stream",
     "text": [
      "I am a Kangaroo located at coordinates (0,0)\n"
     ]
    }
   ],
   "source": [
    "k = Kangaroo(0,0)\n",
    "print(k)"
   ]
  },
  {
   "cell_type": "code",
   "execution_count": 57,
   "id": "08d353e8",
   "metadata": {},
   "outputs": [
    {
     "data": {
      "text/plain": [
       "['doll', 'firetruck', 'kitten']"
      ]
     },
     "execution_count": 57,
     "metadata": {},
     "output_type": "execute_result"
    }
   ],
   "source": [
    "k.put_in_pouch('doll')\n",
    "k.put_in_pouch('firetruck')\n",
    "k.put_in_pouch('kitten')\n",
    "k.pouch_contents()"
   ]
  },
  {
   "cell_type": "code",
   "execution_count": 58,
   "id": "255c8244",
   "metadata": {},
   "outputs": [
    {
     "name": "stdout",
     "output_type": "stream",
     "text": [
      "I am a Kangaroo located at coordinates (3,0)\n"
     ]
    }
   ],
   "source": [
    "k.jump(1,0)\n",
    "k.jump(1,0)\n",
    "k.jump(1,0)\n",
    "print(k)"
   ]
  },
  {
   "cell_type": "markdown",
   "id": "688cf4b0",
   "metadata": {},
   "source": [
    "Q4. "
   ]
  },
  {
   "cell_type": "code",
   "execution_count": 14,
   "id": "05d00777",
   "metadata": {},
   "outputs": [
    {
     "name": "stdout",
     "output_type": "stream",
     "text": [
      "10\n",
      "5\n",
      "16\n",
      "8\n",
      "4\n",
      "2\n",
      "1\n"
     ]
    }
   ],
   "source": [
    "def collatz(number):\n",
    "    print(number)\n",
    "    while number !=1:\n",
    "        if number% 2 == 0:\n",
    "            number= number//2\n",
    "            print(number)\n",
    "\n",
    "        else:\n",
    "           number=  3 * number + 1\n",
    "           print(number)    \n",
    "\n",
    "collatz(10)"
   ]
  },
  {
   "cell_type": "markdown",
   "id": "7b82e174",
   "metadata": {},
   "source": [
    "Q5."
   ]
  },
  {
   "cell_type": "code",
   "execution_count": 200,
   "id": "efea55b0",
   "metadata": {},
   "outputs": [
    {
     "name": "stdout",
     "output_type": "stream",
     "text": [
      "1001"
     ]
    }
   ],
   "source": [
    "def binary(n):\n",
    "     if n < 2:\n",
    "        print (n, end='')\n",
    "     else:\n",
    "        binary(n // 2)\n",
    "        print (n % 2, end='')\n",
    "\n",
    "binary(9)"
   ]
  },
  {
   "cell_type": "markdown",
   "id": "76958ef0",
   "metadata": {},
   "source": [
    "Q6."
   ]
  },
  {
   "cell_type": "code",
   "execution_count": 236,
   "id": "ca246ad0",
   "metadata": {},
   "outputs": [],
   "source": [
    "from html.parser import HTMLParser\n",
    "import re\n",
    "import itertools\n",
    "class HeadingParser(HTMLParser):\n",
    "    def __init__(self):\n",
    "        HTMLParser.__init__(self)\n",
    "        self.headings = False\n",
    "        self.lst = ['h1','h2']\n",
    "        self.number = 0\n",
    "        \n",
    "        \n",
    "    def handle_starttag(self, tag, attrs):\n",
    "        reg = re.compile(r'\\d')\n",
    "        if (tag in self.lst):\n",
    "            self.headings = True\n",
    "            self.number = int(reg.findall(tag)[0])\n",
    "            \n",
    "    def handle_data(self, data):\n",
    "        if self.headings:\n",
    "            print('\\t'*(self.number-1)+data)\n",
    "            \n",
    "    def handle_endtage(self, tag):\n",
    "        if (tag in self.lst):\n",
    "            self.headings = False"
   ]
  },
  {
   "cell_type": "code",
   "execution_count": 237,
   "id": "fcd6317b",
   "metadata": {},
   "outputs": [
    {
     "name": "stdout",
     "output_type": "stream",
     "text": [
      "W3C Mission\n",
      "\n",
      "\t\n",
      "\tPrinciples\n",
      "\t\n",
      " \n",
      "\n",
      "\n",
      "\n",
      "\t\n",
      "\n"
     ]
    }
   ],
   "source": [
    "infile = open('w3c.html')\n",
    "content = infile.read()\n",
    "infile.close()\n",
    "hp = HeadingParser()\n",
    "hp.feed(content)"
   ]
  },
  {
   "cell_type": "markdown",
   "id": "6c0cfb89",
   "metadata": {},
   "source": [
    "Q7."
   ]
  },
  {
   "cell_type": "code",
   "execution_count": 192,
   "id": "40f018f7",
   "metadata": {},
   "outputs": [
    {
     "name": "stdout",
     "output_type": "stream",
     "text": [
      "Link is not allowing get url\n"
     ]
    }
   ],
   "source": [
    "from urllib.request import urlopen\n",
    "\n",
    "def webdir(url, depth, indent):\n",
    "    try:\n",
    "        html = urlopen(url)\n",
    "        content = html.read()\n",
    "        ncontent1 = content.decode('utf8')\n",
    "        links = re.findall(\"href=[\\\"\\'](.*?)[\\\"\\']\", content1)\n",
    "        \n",
    "        if indent == 0:\n",
    "            print(url)\n",
    "            webdir(url, depth, indent+1)\n",
    "        elif indent <= depth:\n",
    "            \n",
    "            for i in links:\n",
    "                if re.findall(\"^http://\", i):\n",
    "                    print(' '*(indent)+i)\n",
    "                    webdir(i, depth, indent+1)\n",
    "                    \n",
    "    except:\n",
    "        print(' '*indent +'Link is not allowing get url')\n",
    "\n",
    "webdir('http://reed.cs.depaul.edu/lperkovic/csc242/test1.html', 2, 0)\n",
    "## There is a problem with the url, I tried opening in the browser it did not open too."
   ]
  },
  {
   "cell_type": "markdown",
   "id": "b4dc8b52",
   "metadata": {},
   "source": [
    "Q8a"
   ]
  },
  {
   "cell_type": "code",
   "execution_count": null,
   "id": "6bac4fca",
   "metadata": {},
   "outputs": [],
   "source": [
    "%%sql   \n",
    "SELECT Temperature(C) FROM database"
   ]
  },
  {
   "cell_type": "markdown",
   "id": "9d449aa3",
   "metadata": {},
   "source": [
    "Q8b."
   ]
  },
  {
   "cell_type": "code",
   "execution_count": null,
   "id": "15013f8f",
   "metadata": {},
   "outputs": [],
   "source": [
    "%%sql   \n",
    "SELECT Distinct FROM City"
   ]
  },
  {
   "cell_type": "markdown",
   "id": "98c5f89a",
   "metadata": {},
   "source": [
    "Q8c"
   ]
  },
  {
   "cell_type": "code",
   "execution_count": null,
   "id": "1a7e49b5",
   "metadata": {},
   "outputs": [],
   "source": [
    "%%sql\n",
    "SELECT Country FROM database\n",
    "WHERE City = 'India'"
   ]
  },
  {
   "cell_type": "markdown",
   "id": "a1fe7f4f",
   "metadata": {},
   "source": [
    "Q8d"
   ]
  },
  {
   "cell_type": "code",
   "execution_count": null,
   "id": "6db06e7b",
   "metadata": {},
   "outputs": [],
   "source": [
    "%%sql\n",
    "SELECT Season FROM database\n",
    "WHERE Season = 'Fall'"
   ]
  },
  {
   "cell_type": "markdown",
   "id": "c71fe3ce",
   "metadata": {},
   "source": [
    "Q8e"
   ]
  },
  {
   "cell_type": "code",
   "execution_count": null,
   "id": "ad2717eb",
   "metadata": {},
   "outputs": [],
   "source": [
    "%%sql\n",
    "SELECT City, Country, Season FROM database\n",
    "WHERE Rainfall(mm) BETWEEN 200 AND 400"
   ]
  },
  {
   "cell_type": "markdown",
   "id": "9079c8b0",
   "metadata": {},
   "source": [
    "Q8f"
   ]
  },
  {
   "cell_type": "code",
   "execution_count": null,
   "id": "374a64f7",
   "metadata": {},
   "outputs": [],
   "source": [
    "%%sql\n",
    "SELECT City Country AVG(Temperature(C)) FROM database\n",
    "WHERE Season = 'Fall'\n",
    "ORDER by Temperature(C) DESC"
   ]
  },
  {
   "cell_type": "markdown",
   "id": "6543b3f4",
   "metadata": {},
   "source": [
    "Q8g"
   ]
  },
  {
   "cell_type": "code",
   "execution_count": null,
   "id": "7c3eb2e0",
   "metadata": {},
   "outputs": [],
   "source": [
    "%%sql\n",
    "SELECT SUM(Rainfall(mm)) FROM database \n",
    "WHERE City = 'Cairo'"
   ]
  },
  {
   "cell_type": "markdown",
   "id": "5219f635",
   "metadata": {},
   "source": [
    "Q8h"
   ]
  },
  {
   "cell_type": "code",
   "execution_count": null,
   "id": "16e02baa",
   "metadata": {},
   "outputs": [],
   "source": [
    "%%sql\n",
    "SELECT Season SUM(Rainfall(mm)) FROM database \n",
    "WHERE Season = Distinct"
   ]
  },
  {
   "cell_type": "markdown",
   "id": "9e27738f",
   "metadata": {},
   "source": [
    "Q9."
   ]
  },
  {
   "cell_type": "code",
   "execution_count": 9,
   "id": "e4d6d394",
   "metadata": {},
   "outputs": [
    {
     "name": "stdout",
     "output_type": "stream",
     "text": [
      "['THE', 'QUICK', 'BROWN', 'FOX', 'JUMPS', 'OVER', 'THE', 'LAZY', 'DOG']\n"
     ]
    }
   ],
   "source": [
    "word = ['The', 'quick', 'brown', 'fox', 'jumps', 'over', 'the', 'lazy', 'dog']\n",
    "word_upper = [item.upper() for item in word]\n",
    "print(word_upper)"
   ]
  },
  {
   "cell_type": "markdown",
   "id": "903dd6fe",
   "metadata": {},
   "source": [
    "9b."
   ]
  },
  {
   "cell_type": "code",
   "execution_count": 7,
   "id": "b62c467e",
   "metadata": {},
   "outputs": [
    {
     "name": "stdout",
     "output_type": "stream",
     "text": [
      "['the', 'quick', 'brown', 'fox', 'jumps', 'over', 'the', 'lazy', 'dog']\n"
     ]
    }
   ],
   "source": [
    "word = ['The', 'quick', 'brown', 'fox', 'jumps', 'over', 'the', 'lazy', 'dog']\n",
    "word_lower = [item.lower() for item in word]\n",
    "print(word_lower)"
   ]
  },
  {
   "cell_type": "markdown",
   "id": "c4e47006",
   "metadata": {},
   "source": [
    "9c."
   ]
  },
  {
   "cell_type": "code",
   "execution_count": 8,
   "id": "03c1993c",
   "metadata": {},
   "outputs": [
    {
     "name": "stdout",
     "output_type": "stream",
     "text": [
      "[3, 5, 5, 3, 5, 4, 4, 3]\n"
     ]
    }
   ],
   "source": [
    "word = ['The', 'quick', 'brown', 'fox', 'jumps', 'over', 'the', 'lazy', 'dog']\n",
    "word_lengths = [len(word) for word in word if word != \"the\"]\n",
    "print(word_lengths)"
   ]
  },
  {
   "cell_type": "markdown",
   "id": "904aefc0",
   "metadata": {},
   "source": [
    "9d."
   ]
  },
  {
   "cell_type": "code",
   "execution_count": 167,
   "id": "b4d64865",
   "metadata": {},
   "outputs": [
    {
     "name": "stdout",
     "output_type": "stream",
     "text": [
      "[['THE', 'the', 3], ['QUICK', 'quick', 5], ['BROWN', 'brown', 5], ['FOX', 'fox', 3], ['JUMPS', 'jumps', 5], ['OVER', 'over', 4], ['THE', 'the', 3], ['LAZY', 'lazy', 4], ['DOG', 'dog', 3]]\n"
     ]
    }
   ],
   "source": [
    "word = ['The', 'quick', 'brown', 'fox', 'jumps', 'over', 'the', 'lazy', 'dog']\n",
    "word_upper = ['THE', 'QUICK', 'BROWN', 'FOX', 'JUMPS', 'OVER', 'THE', 'LAZY', 'DOG']\n",
    "word_lengths = [3, 5, 5, 3, 5, 4, 3, 4, 3]\n",
    "new_word = [[i.upper(), i.lower(), len(i)] for i in word]\n",
    "print(new_word)"
   ]
  },
  {
   "cell_type": "markdown",
   "id": "cbf0ca07",
   "metadata": {},
   "source": [
    "9e."
   ]
  },
  {
   "cell_type": "code",
   "execution_count": 30,
   "id": "d55eb6a9",
   "metadata": {},
   "outputs": [
    {
     "name": "stdout",
     "output_type": "stream",
     "text": [
      "['quick', 'brown', 'jumps', 'over', 'lazy']\n"
     ]
    }
   ],
   "source": [
    "word = ['The', 'quick', 'brown', 'fox', 'jumps', 'over', 'the', 'lazy', 'dog']\n",
    "word_len = [item for item in word if len(item)>=4]\n",
    "print(word_len)"
   ]
  }
 ],
 "metadata": {
  "kernelspec": {
   "display_name": "Python 3 (ipykernel)",
   "language": "python",
   "name": "python3"
  },
  "language_info": {
   "codemirror_mode": {
    "name": "ipython",
    "version": 3
   },
   "file_extension": ".py",
   "mimetype": "text/x-python",
   "name": "python",
   "nbconvert_exporter": "python",
   "pygments_lexer": "ipython3",
   "version": "3.9.12"
  }
 },
 "nbformat": 4,
 "nbformat_minor": 5
}
